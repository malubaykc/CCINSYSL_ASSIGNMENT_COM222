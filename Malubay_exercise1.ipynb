{
  "nbformat": 4,
  "nbformat_minor": 0,
  "metadata": {
    "colab": {
      "provenance": [],
      "authorship_tag": "ABX9TyPs4xO54EJBi1q8pMRDrUsU",
      "include_colab_link": true
    },
    "kernelspec": {
      "name": "python3",
      "display_name": "Python 3"
    },
    "language_info": {
      "name": "python"
    }
  },
  "cells": [
    {
      "cell_type": "markdown",
      "metadata": {
        "id": "view-in-github",
        "colab_type": "text"
      },
      "source": [
        "<a href=\"https://colab.research.google.com/github/malubaykc/CCINSYSL_ASSIGNMENT_COM222/blob/main/Malubay_exercise1.ipynb\" target=\"_parent\"><img src=\"https://colab.research.google.com/assets/colab-badge.svg\" alt=\"Open In Colab\"/></a>"
      ]
    },
    {
      "cell_type": "markdown",
      "source": [
        "1. Create a Singly Linked list\n",
        "*  Each node should contain your name and your seatmates in your row\n",
        "*  Create at least 5 nodes\n",
        "*  Traverse all nodes\n"
      ],
      "metadata": {
        "id": "WuRpAspNUAMW"
      }
    },
    {
      "cell_type": "code",
      "source": [
        "# 1.\n",
        "\n",
        "class Node:\n",
        "    def __init__(self, data):\n",
        "        self.data = data\n",
        "        self.next = None\n",
        "\n",
        "class LinkedList:\n",
        "\n",
        "    def __init__(self):\n",
        "        self.head = None\n",
        "\n",
        "    def traverse(self, node):\n",
        "        while node:\n",
        "            print(node.data, end=\" -> \")\n",
        "            node = node.next\n",
        "\n",
        "Khyle = \"Khyle\"\n",
        "Kristel = \"Kristel\"\n",
        "Jaira = \"Jaira\"\n",
        "Renz = \"Renz\"\n",
        "Elijah = \"Elijah\"\n",
        "\n",
        "linked_list = LinkedList()\n",
        "\n",
        "linked_list.head = Node(Khyle)\n",
        "node_b = Node(Kristel)\n",
        "node_c = Node(Jaira)\n",
        "node_d = Node(Renz)\n",
        "node_e = Node(Elijah)\n",
        "\n",
        "linked_list.head.next = node_b\n",
        "node_b.next = node_c\n",
        "node_c.next = node_d\n",
        "node_d.next = node_e\n",
        "\n",
        "linked_list.traverse(linked_list.head)"
      ],
      "metadata": {
        "colab": {
          "base_uri": "https://localhost:8080/"
        },
        "id": "R7ClFEVkUf5o",
        "outputId": "b2971b7b-c22e-40ff-ca03-efa8f57dffa8"
      },
      "execution_count": 1,
      "outputs": [
        {
          "output_type": "stream",
          "name": "stdout",
          "text": [
            "Khyle -> Kristel -> Jaira -> Renz -> Elijah -> "
          ]
        }
      ]
    },
    {
      "cell_type": "markdown",
      "source": [
        "2. Create a Doubly Linked list\n",
        "\n",
        "*   Each node should contain your name and your seatmates in your row\n",
        "*   Create at least 5 nodes\n",
        "*   Traverse all nodes\n",
        "\n",
        "\n"
      ],
      "metadata": {
        "id": "xtov8_FgUp-0"
      }
    },
    {
      "cell_type": "code",
      "source": [
        "#2\n",
        "\n",
        "class Node:\n",
        "    def __init__(self, data):\n",
        "        self.data = data\n",
        "        self.next = None\n",
        "        self.prev = None\n",
        "\n",
        "class DoublyLinkedList:\n",
        "\n",
        "    def __init__(self):\n",
        "        self.head = None\n",
        "\n",
        "    def traverse(self, node):\n",
        "        while node:\n",
        "            print(node.data, end=\" -> \")\n",
        "            node = node.next\n",
        "\n",
        "Khyle = \"Khyle\"\n",
        "Kristel = \"Kristel\"\n",
        "Jaira = \"Jaira\"\n",
        "Renz = \"Renz\"\n",
        "Elijah = \"Elijah\"\n",
        "\n",
        "doubly_linked_list = DoublyLinkedList()\n",
        "\n",
        "doubly_linked_list.head = Node(Khyle)\n",
        "node_b = Node(Kristel)\n",
        "node_c = Node(Jaira)\n",
        "node_d = Node(Renz)\n",
        "node_e = Node(Elijah)\n",
        "\n",
        "doubly_linked_list.head.prev = None\n",
        "doubly_linked_list.head.next = node_b\n",
        "\n",
        "node_b.prev = doubly_linked_list.head\n",
        "node_b.next = node_c\n",
        "\n",
        "node_c.prev = node_b\n",
        "node_c.next = node_d\n",
        "\n",
        "node_d.prev = node_c\n",
        "node_d.next = node_e\n",
        "\n",
        "node_e.prev = node_d\n",
        "node_e.next = None\n",
        "\n",
        "doubly_linked_list.traverse(doubly_linked_list.head)\n",
        "\n"
      ],
      "metadata": {
        "colab": {
          "base_uri": "https://localhost:8080/"
        },
        "id": "pHSK5X5dU5-X",
        "outputId": "d52e7739-c999-4644-b748-e08d87cb4db9"
      },
      "execution_count": 2,
      "outputs": [
        {
          "output_type": "stream",
          "name": "stdout",
          "text": [
            "Khyle -> Kristel -> Jaira -> Renz -> Elijah -> "
          ]
        }
      ]
    },
    {
      "cell_type": "markdown",
      "source": [
        "3. Create a Circular Linked list\n",
        "\n",
        "*   Each node should contain your name and your seatmates in your row\n",
        "*   Create at least 5 nodes\n",
        "*  Traverse all nodes\n",
        "\n",
        "\n"
      ],
      "metadata": {
        "id": "raacQvSrVArH"
      }
    },
    {
      "cell_type": "code",
      "source": [
        "#3\n",
        "\n",
        "class Node:\n",
        "    def __init__(self, data):\n",
        "        self.data = data\n",
        "        self.next = None\n",
        "        self.prev = None\n",
        "\n",
        "class CircularLinkedList:\n",
        "\n",
        "    def __init__(self):\n",
        "        self.head = None\n",
        "\n",
        "    def traverse(self, node):\n",
        "\n",
        "        head = node\n",
        "\n",
        "        while node:\n",
        "            print(node.data, end=\" -> \")\n",
        "            node = node.next\n",
        "\n",
        "            if node == head:\n",
        "                break\n",
        "\n",
        "\n",
        "Khyle = \"Khyle\"\n",
        "Kristel = \"Kristel\"\n",
        "Jaira = \"Jaira\"\n",
        "Renz = \"Renz\"\n",
        "Elijah = \"Elijah\"\n",
        "\n",
        "circular_linked_list = CircularLinkedList()\n",
        "\n",
        "circular_linked_list.head =  Node(Khyle)\n",
        "node_b = Node(Kristel)\n",
        "node_c = Node(Jaira)\n",
        "node_d = Node(Renz)\n",
        "node_e = Node(Elijah)\n",
        "\n",
        "circular_linked_list.head.next = node_b\n",
        "node_b.next = node_c\n",
        "node_c.next = node_d\n",
        "node_d.next = node_e\n",
        "node_e.next = circular_linked_list.head\n",
        "\n",
        "\n",
        "circular_linked_list.traverse(circular_linked_list.head)"
      ],
      "metadata": {
        "colab": {
          "base_uri": "https://localhost:8080/"
        },
        "id": "tBQBpzrXVWus",
        "outputId": "4736ec6d-51da-47e9-f202-36baef8ab190"
      },
      "execution_count": 3,
      "outputs": [
        {
          "output_type": "stream",
          "name": "stdout",
          "text": [
            "Khyle -> Kristel -> Jaira -> Renz -> Elijah -> "
          ]
        }
      ]
    }
  ]
}