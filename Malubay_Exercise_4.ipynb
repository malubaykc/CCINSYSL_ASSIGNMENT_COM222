{
  "nbformat": 4,
  "nbformat_minor": 0,
  "metadata": {
    "colab": {
      "provenance": [],
      "authorship_tag": "ABX9TyP8Ptn5hr+GKEGCAa5uep5H",
      "include_colab_link": true
    },
    "kernelspec": {
      "name": "python3",
      "display_name": "Python 3"
    },
    "language_info": {
      "name": "python"
    }
  },
  "cells": [
    {
      "cell_type": "markdown",
      "metadata": {
        "id": "view-in-github",
        "colab_type": "text"
      },
      "source": [
        "<a href=\"https://colab.research.google.com/github/malubaykc/CCINSYSL_ASSIGNMENT_COM222/blob/main/Malubay_Exercise_4.ipynb\" target=\"_parent\"><img src=\"https://colab.research.google.com/assets/colab-badge.svg\" alt=\"Open In Colab\"/></a>"
      ]
    },
    {
      "cell_type": "markdown",
      "source": [
        "1.Sort your student number in ascending order\n",
        "Example:\n",
        "\n",
        "Input: 2022123456\n",
        "\n",
        "Output: 0122223456"
      ],
      "metadata": {
        "id": "XpZL4qGjkq83"
      }
    },
    {
      "cell_type": "code",
      "execution_count": null,
      "metadata": {
        "id": "_bl7tdoZkqT-"
      },
      "outputs": [],
      "source": [
        "Input: 2022105341\n",
        "Output:0011222345"
      ]
    },
    {
      "cell_type": "markdown",
      "source": [
        "2.Sort the dates in ascending order.\n",
        "dates = [\"12-25-2023\", birthday, \"01-01-2023\"]\n",
        "\n",
        "Enter your birthday in the birthday variable."
      ],
      "metadata": {
        "id": "Vhn1Nvickspf"
      }
    },
    {
      "cell_type": "code",
      "source": [
        "# Your birthday should be in mm-dd-yyyy\n",
        "birthday = \"03-03-02\"\n",
        "\n",
        "dates = [\"12-25-2023\", birthday, \"03-03-02\"]"
      ],
      "metadata": {
        "id": "3SVmL9lOktCY"
      },
      "execution_count": 1,
      "outputs": []
    },
    {
      "cell_type": "markdown",
      "source": [
        "3.Count the total number of swaps to sort the list below using Bubble Sort\n",
        "3\t2\t5\t1\t4"
      ],
      "metadata": {
        "id": "VEfWAJDFkxZ-"
      }
    },
    {
      "cell_type": "code",
      "source": [
        "totalswaps = \"5\"\n",
        "print(totalswaps)"
      ],
      "metadata": {
        "id": "IvKqatCckyDI"
      },
      "execution_count": null,
      "outputs": []
    },
    {
      "cell_type": "markdown",
      "source": [
        "4.Count the total number of steps to sort the list below using Insertion Sort\n",
        "6\t2\t5\t7\t4\t1\t8\t9\t3"
      ],
      "metadata": {
        "id": "nLlo_5YukybD"
      }
    },
    {
      "cell_type": "code",
      "source": [
        "numberofsteps = \"21\"\n",
        "print(numberofsteps)"
      ],
      "metadata": {
        "id": "EG5qvCeYkyzS"
      },
      "execution_count": null,
      "outputs": []
    },
    {
      "cell_type": "markdown",
      "source": [
        "5.Given the list below:\n",
        "7\t5\t4\t3\t2\t5\t1\t8"
      ],
      "metadata": {
        "id": "pnGYRdu8lATq"
      }
    },
    {
      "cell_type": "code",
      "source": [
        "# put your answer here\n",
        "\n",
        "merge_sort_num_steps = 4\n",
        "\n",
        "counting_sort_num_steps = 5\n",
        "\n",
        "\n",
        "if merge_sort_num_steps < counting_sort_num_steps:\n",
        "    print(\"Merge sort is faster\")\n",
        "else:\n",
        "    print(\"counting sort is faster\")"
      ],
      "metadata": {
        "colab": {
          "base_uri": "https://localhost:8080/"
        },
        "id": "lXYqlbLUlAoh",
        "outputId": "309b0118-e314-4f69-e8ab-e8e7b23b8204"
      },
      "execution_count": 2,
      "outputs": [
        {
          "output_type": "stream",
          "name": "stdout",
          "text": [
            "Merge sort is faster\n"
          ]
        }
      ]
    }
  ]
}