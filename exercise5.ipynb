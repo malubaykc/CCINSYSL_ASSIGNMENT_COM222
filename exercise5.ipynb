{
  "cells": [
    {
      "cell_type": "markdown",
      "metadata": {
        "id": "view-in-github",
        "colab_type": "text"
      },
      "source": [
        "<a href=\"https://colab.research.google.com/github/malubaykc/CCINSYSL_ASSIGNMENT_COM222/blob/main/exercise5.ipynb\" target=\"_parent\"><img src=\"https://colab.research.google.com/assets/colab-badge.svg\" alt=\"Open In Colab\"/></a>"
      ]
    },
    {
      "cell_type": "markdown",
      "metadata": {
        "id": "i6uvC9oljqCL"
      },
      "source": [
        "# Exercise 5"
      ]
    },
    {
      "cell_type": "markdown",
      "metadata": {
        "id": "y6Ra-3m4jqCS"
      },
      "source": [
        "#### 1. Create a dictionary of your 10 favorite songs."
      ]
    },
    {
      "cell_type": "markdown",
      "metadata": {
        "id": "HR4tCugljqCT"
      },
      "source": [
        "Example:\n",
        "\n",
        "|KEY|VALUE|\n",
        "|---|---|\n",
        "|001|My Love|\n",
        "|002|Like a rose|"
      ]
    },
    {
      "cell_type": "code",
      "execution_count": 7,
      "metadata": {
        "id": "eZ8oOwEOjqCV",
        "outputId": "b1a80bda-54d4-49d9-c62b-5f8a39a1cf65",
        "colab": {
          "base_uri": "https://localhost:8080/"
        }
      },
      "outputs": [
        {
          "output_type": "stream",
          "name": "stdout",
          "text": [
            "{'001': 'All Along The Watchtower', '002': 'Kashmir', '003': 'Black Dog', '004': 'Immigrant Song', '005': 'Purple Haze', '006': 'Money', '007': 'Dark Necessities', '008': 'War Pigs', '009': 'Highway Star', '0010': 'Children of the Grave'}\n"
          ]
        }
      ],
      "source": [
        "# put your answer here\n",
        "mydictionary = {\n",
        "  \"001\": \"All Along The Watchtower\",\n",
        "  \"002\": \"Kashmir\",\n",
        "  \"003\": \"Black Dog\",\n",
        "  \"004\": \"Immigrant Song\",\n",
        "  \"005\": \"Purple Haze\",\n",
        "  \"006\": \"Money\",\n",
        "  \"007\": \"Dark Necessities\",\n",
        "  \"008\": \"War Pigs\",\n",
        "  \"009\": \"Highway Star\",\n",
        "  \"0010\": \"Children of the Grave\",\n",
        "}\n",
        "print(mydictionary)"
      ]
    },
    {
      "cell_type": "markdown",
      "metadata": {
        "id": "z1__xv32jqCW"
      },
      "source": [
        "#### 2. Loop through the dictionary by its **key** and **value**"
      ]
    },
    {
      "cell_type": "code",
      "execution_count": 10,
      "metadata": {
        "id": "htIx57_mjqCX",
        "outputId": "0020d46b-db69-48f8-f189-c5c516b476d0",
        "colab": {
          "base_uri": "https://localhost:8080/"
        }
      },
      "outputs": [
        {
          "output_type": "stream",
          "name": "stdout",
          "text": [
            "001 All Along The Watchtower\n",
            "002 Kashmir\n",
            "003 Black Dog\n",
            "004 Immigrant Song\n",
            "005 Purple Haze\n",
            "006 Money\n",
            "007 Dark Necessities\n",
            "008 War Pigs\n",
            "009 Highway Star\n",
            "0010 Children of the Grave\n"
          ]
        }
      ],
      "source": [
        "# put your answer here\n",
        "for x, y in mydictionary.items():\n",
        "  print(x, y)"
      ]
    },
    {
      "cell_type": "markdown",
      "metadata": {
        "id": "1YWFlo9jjqCX"
      },
      "source": [
        "#### 3. Add one additional song"
      ]
    },
    {
      "cell_type": "code",
      "source": [
        "# put your answer here\n",
        "mydictionary[\"0011\"] = \"Halo on Fire!\"\n",
        "mydictionary"
      ],
      "metadata": {
        "id": "Zm7rPlepmuxg",
        "outputId": "a9ec6e69-2c35-43e4-ff9d-fd41181b87f8",
        "colab": {
          "base_uri": "https://localhost:8080/"
        }
      },
      "execution_count": 21,
      "outputs": [
        {
          "output_type": "execute_result",
          "data": {
            "text/plain": [
              "{'001': 'All Along The Watchtower',\n",
              " '002': 'Kashmir',\n",
              " '003': 'Black Dog',\n",
              " '004': 'Angel',\n",
              " '005': 'Purple Haze',\n",
              " '006': 'Money',\n",
              " '007': 'Dark Necessities',\n",
              " '008': 'War Pigs',\n",
              " '009': 'Highway Star',\n",
              " '0010': 'Children of the Grave',\n",
              " '0011': 'Halo on Fire!'}"
            ]
          },
          "metadata": {},
          "execution_count": 21
        }
      ]
    },
    {
      "cell_type": "markdown",
      "metadata": {
        "id": "PglTFxG_jqCY"
      },
      "source": [
        "#### 4. Remove one song"
      ]
    },
    {
      "cell_type": "code",
      "execution_count": 22,
      "metadata": {
        "id": "BTptTs2yjqCY",
        "outputId": "b657d8f3-2b67-433e-d367-13a705d38249",
        "colab": {
          "base_uri": "https://localhost:8080/"
        }
      },
      "outputs": [
        {
          "output_type": "execute_result",
          "data": {
            "text/plain": [
              "{'001': 'All Along The Watchtower',\n",
              " '002': 'Kashmir',\n",
              " '003': 'Black Dog',\n",
              " '004': 'Angel',\n",
              " '005': 'Purple Haze',\n",
              " '006': 'Money',\n",
              " '007': 'Dark Necessities',\n",
              " '008': 'War Pigs',\n",
              " '009': 'Highway Star',\n",
              " '0010': 'Children of the Grave'}"
            ]
          },
          "metadata": {},
          "execution_count": 22
        }
      ],
      "source": [
        "# put your answer here\n",
        "mydictionary.pop(\"0011\")\n",
        "mydictionary"
      ]
    },
    {
      "cell_type": "markdown",
      "metadata": {
        "id": "EF51QSnpjqCZ"
      },
      "source": [
        "#### 5. Create a nested dictionary of your 10 favorite songs with 5 genres. Display all of the items of the nested dictionary\n",
        "\n",
        "- Each nested dictionary's key should be the genre of the song\n",
        "- Put each song in their respective genre"
      ]
    },
    {
      "cell_type": "markdown",
      "metadata": {
        "id": "fUhY7RBCjqCZ"
      },
      "source": [
        "Example:\n",
        "\n",
        "\n",
        "|KEY|VALUE|\n",
        "|---|---|\n",
        "|Pop|{001, Baby}|\n",
        "|Rock|{001, Enter Sandman}|"
      ]
    },
    {
      "cell_type": "code",
      "execution_count": 23,
      "metadata": {
        "id": "UPBxPgTZjqCZ",
        "outputId": "3dd49715-568a-4969-bf0a-f2a4227b7606",
        "colab": {
          "base_uri": "https://localhost:8080/"
        }
      },
      "outputs": [
        {
          "output_type": "execute_result",
          "data": {
            "text/plain": [
              "{'RnB': {'001': 'Play Fight', '002': 'oui'},\n",
              " 'Rock': {'001': 'All Along the Watchtower', '002': 'Smells like teen spirit'},\n",
              " 'Rap': {'001': 'Wussyuname', '002': '90210'},\n",
              " 'Pop': {'001': 'Cruel Summer', '002': 'Spinning'},\n",
              " 'Shoegaze': {'001': 'Unexpectedly', '002': 'Youth Rebelion'}}"
            ]
          },
          "metadata": {},
          "execution_count": 23
        }
      ],
      "source": [
        "# put your answer here\n",
        "mydictionary = {\n",
        "  \"RnB\" : {\n",
        "    \"001\" : \"Play Fight\",\n",
        "    \"002\" : \"oui\"\n",
        "  },\n",
        "  \"Rock\" : {\n",
        "    \"001\" : \"All Along the Watchtower\",\n",
        "    \"002\" : \"Smells like teen spirit\"\n",
        "  },\n",
        "  \"Rap\" : {\n",
        "    \"001\" : \"Wussyuname\",\n",
        "    \"002\" : \"90210\"\n",
        "  },\n",
        "  \"Pop\" : {\n",
        "    \"001\" : \"Cruel Summer\",\n",
        "    \"002\" : \"Spinning\"\n",
        "  },\n",
        "  \"Shoegaze\" : {\n",
        "    \"001\" : \"Unexpectedly\",\n",
        "    \"002\" : \"Youth Rebelion\"\n",
        "  }\n",
        "}\n",
        "\n",
        "mydictionary"
      ]
    },
    {
      "cell_type": "markdown",
      "metadata": {
        "id": "PheQ4PtNjqCa"
      },
      "source": [
        "#### 6. Print the first song of the first genre"
      ]
    },
    {
      "cell_type": "code",
      "execution_count": 24,
      "metadata": {
        "id": "zINE8xxijqCa",
        "outputId": "a506ad9d-89ac-4fe9-f5b1-fa0df3f4313a",
        "colab": {
          "base_uri": "https://localhost:8080/"
        }
      },
      "outputs": [
        {
          "output_type": "stream",
          "name": "stdout",
          "text": [
            "Play Fight\n"
          ]
        }
      ],
      "source": [
        "# put your answer here\n",
        "print(mydictionary[\"RnB\"][\"001\"])"
      ]
    },
    {
      "cell_type": "markdown",
      "metadata": {
        "id": "0n58RKMAjqCa"
      },
      "source": [
        "#### 7. Print the first song of the last genre"
      ]
    },
    {
      "cell_type": "code",
      "execution_count": 25,
      "metadata": {
        "id": "_xTk16yYjqCa",
        "outputId": "12829fcc-3b67-4e5a-8e1a-353e0cb0b4c6",
        "colab": {
          "base_uri": "https://localhost:8080/"
        }
      },
      "outputs": [
        {
          "output_type": "stream",
          "name": "stdout",
          "text": [
            "Unexpectedly\n"
          ]
        }
      ],
      "source": [
        "# put your answer here\n",
        "print(mydictionary[\"Shoegaze\"][\"001\"])"
      ]
    }
  ],
  "metadata": {
    "kernelspec": {
      "display_name": "Python 3",
      "language": "python",
      "name": "python3"
    },
    "language_info": {
      "codemirror_mode": {
        "name": "ipython",
        "version": 3
      },
      "file_extension": ".py",
      "mimetype": "text/x-python",
      "name": "python",
      "nbconvert_exporter": "python",
      "pygments_lexer": "ipython3",
      "version": "3.11.4"
    },
    "orig_nbformat": 4,
    "colab": {
      "provenance": [],
      "include_colab_link": true
    }
  },
  "nbformat": 4,
  "nbformat_minor": 0
}