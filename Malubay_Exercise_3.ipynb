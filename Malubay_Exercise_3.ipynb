{
  "nbformat": 4,
  "nbformat_minor": 0,
  "metadata": {
    "colab": {
      "provenance": [],
      "authorship_tag": "ABX9TyNbBN/vT/kylxXq2L3SDe0P",
      "include_colab_link": true
    },
    "kernelspec": {
      "name": "python3",
      "display_name": "Python 3"
    },
    "language_info": {
      "name": "python"
    }
  },
  "cells": [
    {
      "cell_type": "markdown",
      "metadata": {
        "id": "view-in-github",
        "colab_type": "text"
      },
      "source": [
        "<a href=\"https://colab.research.google.com/github/malubaykc/CCINSYSL_ASSIGNMENT_COM222/blob/main/Malubay_Exercise_3.ipynb\" target=\"_parent\"><img src=\"https://colab.research.google.com/assets/colab-badge.svg\" alt=\"Open In Colab\"/></a>"
      ]
    },
    {
      "cell_type": "markdown",
      "source": [
        "1.Create a Queue"
      ],
      "metadata": {
        "id": "vq_Fgu9k4W5L"
      }
    },
    {
      "cell_type": "code",
      "source": [
        "myqueue = Queue()\n",
        "\n",
        "myqueue.enqueue(\"Renz\")\n",
        "myqueue.enqueue(\"Elijah\")\n",
        "myqueue.enqueue(\"Khyle\")\n",
        "myqueue.enqueue(\"Jai\")\n",
        "myqueue.enqueue(\"Kristel\")\n",
        "\n",
        "myqueue.display()"
      ],
      "metadata": {
        "colab": {
          "base_uri": "https://localhost:8080/"
        },
        "id": "FmP0DbPN4gqT",
        "outputId": "0db57e5f-e0a8-496e-b8f8-644e6c73ec02"
      },
      "execution_count": 18,
      "outputs": [
        {
          "output_type": "stream",
          "name": "stdout",
          "text": [
            "['Renz', 'Elijah', 'Khyle', 'Jai', 'Kristel']\n"
          ]
        }
      ]
    },
    {
      "cell_type": "markdown",
      "source": [
        "2.Create a Deque\n"
      ],
      "metadata": {
        "id": "LKKrMWJD5mup"
      }
    },
    {
      "cell_type": "code",
      "source": [
        "my_deque = Deque()\n",
        "\n",
        "queue_elements = [\"Cat\", \"Dog\", \"Rabbit\", \"Bird\", \"Hamster\"]\n",
        "\n",
        "my_deque.addRear(queue_elements.pop())\n",
        "my_deque.addRear(queue_elements.pop())\n",
        "my_deque.addRear(queue_elements.pop())\n",
        "my_deque.addRear(queue_elements.pop())\n",
        "my_deque.addRear(queue_elements.pop())\n",
        "\n",
        "print(my_deque.items)"
      ],
      "metadata": {
        "colab": {
          "base_uri": "https://localhost:8080/"
        },
        "id": "rQt8fqvA5tv6",
        "outputId": "77214557-74a5-4863-9401-3597224984da"
      },
      "execution_count": 19,
      "outputs": [
        {
          "output_type": "stream",
          "name": "stdout",
          "text": [
            "['Hamster', 'Bird', 'Rabbit', 'Dog', 'Cat']\n"
          ]
        }
      ]
    },
    {
      "cell_type": "markdown",
      "source": [
        "3.Create a Circular Queue"
      ],
      "metadata": {
        "id": "K_tStQwNC8d9"
      }
    },
    {
      "cell_type": "code",
      "source": [
        "circular_queue = CircularQueue(12)\n",
        "\n",
        "circular_queue.enqueue(\"I\")\n",
        "circular_queue.enqueue(\"II\")\n",
        "circular_queue.enqueue(\"III\")\n",
        "circular_queue.enqueue(\"IV\")\n",
        "circular_queue.enqueue(\"V\")\n",
        "circular_queue.enqueue(\"VI\")\n",
        "circular_queue.enqueue(\"VII\")\n",
        "circular_queue.enqueue(\"VIII\")\n",
        "circular_queue.enqueue(\"IX\")\n",
        "circular_queue.enqueue(\"X\")\n",
        "circular_queue.enqueue(\"XI\")\n",
        "circular_queue.enqueue(\"XII\")\n",
        "\n",
        "circular_queue.printCQueue()"
      ],
      "metadata": {
        "colab": {
          "base_uri": "https://localhost:8080/"
        },
        "id": "8wt2H9oNDC8g",
        "outputId": "9946eee7-4bc7-4822-ee64-8f730efb379b"
      },
      "execution_count": 26,
      "outputs": [
        {
          "output_type": "stream",
          "name": "stdout",
          "text": [
            "I II III IV V VI VII VIII IX X XI XII \n"
          ]
        }
      ]
    },
    {
      "cell_type": "markdown",
      "source": [
        "4.Create a Priority Queue"
      ],
      "metadata": {
        "id": "LjLaZXQKDDVv"
      }
    },
    {
      "cell_type": "code",
      "source": [
        "import queue\n",
        "\n",
        "pq = queue.PriorityQueue()\n",
        "\n",
        "pq.put((\"Cat\", 4))\n",
        "pq.put((\"Dog\", 3))\n",
        "pq.put((\"Rabbit\", 2))\n",
        "pq.put((\"Bird\", 1))\n",
        "pq.put((\"Hamster\", 0))\n",
        "\n",
        "while not pq.empty():\n",
        "    item = pq.get()\n",
        "    print(item[0])"
      ],
      "metadata": {
        "colab": {
          "base_uri": "https://localhost:8080/"
        },
        "id": "vMwdSVWtJmwY",
        "outputId": "a4a378d4-9020-44c6-e5cd-f5269152f890"
      },
      "execution_count": 58,
      "outputs": [
        {
          "output_type": "stream",
          "name": "stdout",
          "text": [
            "Bird\n",
            "Cat\n",
            "Dog\n",
            "Hamster\n",
            "Rabbit\n"
          ]
        }
      ]
    },
    {
      "cell_type": "markdown",
      "source": [
        "5. Create a Sorted Circular Queue"
      ],
      "metadata": {
        "id": "CqtYWiy-DIV7"
      }
    },
    {
      "cell_type": "code",
      "source": [
        "circular_queue = CircularQueue(12)\n",
        "queue_elements = [1, 5, 3, 2, 7, 8, 10, 11, 6, 4, 12, 9]\n",
        "\n",
        "queue_elements.sort()\n",
        "\n",
        "for element in queue_elements:\n",
        "    circular_queue.enqueue(element)\n",
        "\n",
        "circular_queue.printCQueue()"
      ],
      "metadata": {
        "colab": {
          "base_uri": "https://localhost:8080/"
        },
        "id": "iZLhEdW_DL9R",
        "outputId": "24b92609-403d-4076-8231-a2d7d8d56ce6"
      },
      "execution_count": 33,
      "outputs": [
        {
          "output_type": "stream",
          "name": "stdout",
          "text": [
            "1 2 3 4 5 6 7 8 9 10 11 12 \n"
          ]
        }
      ]
    }
  ]
}