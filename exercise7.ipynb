{
  "cells": [
    {
      "cell_type": "markdown",
      "metadata": {
        "id": "view-in-github",
        "colab_type": "text"
      },
      "source": [
        "<a href=\"https://colab.research.google.com/github/malubaykc/CCINSYSL_ASSIGNMENT_COM222/blob/main/exercise7.ipynb\" target=\"_parent\"><img src=\"https://colab.research.google.com/assets/colab-badge.svg\" alt=\"Open In Colab\"/></a>"
      ]
    },
    {
      "cell_type": "markdown",
      "metadata": {
        "id": "e3Ja3uozAJlw"
      },
      "source": [
        "# Exercise 7"
      ]
    },
    {
      "cell_type": "code",
      "execution_count": null,
      "metadata": {
        "id": "IW6uTwU8AJly"
      },
      "outputs": [],
      "source": [
        "class Node:\n",
        "    def __init__(self, item):\n",
        "        self.left = None\n",
        "        self.right = None\n",
        "        self.val = item"
      ]
    },
    {
      "cell_type": "code",
      "execution_count": null,
      "metadata": {
        "id": "uxVFuimIAJlz"
      },
      "outputs": [],
      "source": [
        "def evaluateExpressionTree(root):\n",
        "\n",
        "    # empty tree\n",
        "    if root is None:\n",
        "        return 0\n",
        "\n",
        "    # leaf node\n",
        "    if root.left is None and root.right is None:\n",
        "        return int(root.val)\n",
        "\n",
        "    # evaluate left tree\n",
        "    left_sum = evaluateExpressionTree(root.left)\n",
        "\n",
        "    # evaluate right tree\n",
        "    right_sum = evaluateExpressionTree(root.right)\n",
        "\n",
        "    # check which operation to apply\n",
        "    if root.val == '+':\n",
        "        return left_sum + right_sum\n",
        "\n",
        "    elif root.val == '-':\n",
        "        return left_sum - right_sum\n",
        "\n",
        "    elif root.val == '*':\n",
        "        return left_sum * right_sum\n",
        "\n",
        "    else:\n",
        "        return left_sum // right_sum"
      ]
    },
    {
      "cell_type": "code",
      "execution_count": null,
      "metadata": {
        "id": "-xWZXA-mAJl0"
      },
      "outputs": [],
      "source": [
        "def inorder(root):\n",
        "\n",
        "    if root:\n",
        "        # Traverse left\n",
        "        inorder(root.left)\n",
        "        # Traverse root\n",
        "        print(str(root.val) + \"->\", end='')\n",
        "        # Traverse right\n",
        "        inorder(root.right)"
      ]
    },
    {
      "cell_type": "markdown",
      "metadata": {
        "id": "CVtqxh5DAJl1"
      },
      "source": [
        "#### 1. Construct a binary expression tree\n",
        "\n",
        "$ (8 + 4) * (7 - 9) $"
      ]
    },
    {
      "cell_type": "code",
      "execution_count": 33,
      "metadata": {
        "id": "CxpP0zcVAJl1",
        "outputId": "0a3df572-9929-4d82-b887-cef8d7a7e68f",
        "colab": {
          "base_uri": "https://localhost:8080/"
        }
      },
      "outputs": [
        {
          "output_type": "stream",
          "name": "stdout",
          "text": [
            "Result: -24\n",
            "In-order:\n",
            "8->+->4->*->7->-->9->"
          ]
        }
      ],
      "source": [
        "# put your answer here\n",
        "class Node:\n",
        "    def __init__(self, value):\n",
        "        self.value = value\n",
        "        self.left = None\n",
        "        self.right = None\n",
        "\n",
        "def evaluateExpressionTree(root):\n",
        "    if root is None:\n",
        "        return 0\n",
        "\n",
        "    if root.left is None and root.right is None:\n",
        "        return int(root.value)\n",
        "\n",
        "    left_result = evaluateExpressionTree(root.left)\n",
        "    right_result = evaluateExpressionTree(root.right)\n",
        "\n",
        "    if root.value == '+':\n",
        "        return left_result + right_result\n",
        "    elif root.value == '-':\n",
        "        return left_result - right_result\n",
        "    elif root.value == '*':\n",
        "        return left_result * right_result\n",
        "    elif root.value == '/':\n",
        "        return left_result / right_result\n",
        "\n",
        "def inorder(node):\n",
        "    if node is not None:\n",
        "        inorder(node.left)\n",
        "        print(str(node.value) + '->', end='')\n",
        "        inorder(node.right)\n",
        "\n",
        "root = Node('*')\n",
        "node1 = Node('+')\n",
        "node2 = Node('-')\n",
        "node3 = Node('8')\n",
        "node4 = Node('4')\n",
        "node5 = Node('7')\n",
        "node6 = Node('9')\n",
        "\n",
        "root.left = node1\n",
        "root.right = node2\n",
        "node1.left = node3\n",
        "node1.right = node4\n",
        "node2.left = node5\n",
        "node2.right = node6\n",
        "\n",
        "result = evaluateExpressionTree(root)\n",
        "print(\"Result:\", result)\n",
        "\n",
        "print(\"In-order:\")\n",
        "inorder(root)\n"
      ]
    },
    {
      "cell_type": "markdown",
      "metadata": {
        "id": "jc5KHLk6AJl2"
      },
      "source": [
        "#### 2. Construct a binary expression tree\n",
        "\n",
        "$ 5 / 8 + 3 - 6 * 1 $"
      ]
    },
    {
      "cell_type": "code",
      "execution_count": 39,
      "metadata": {
        "id": "XORzqkC3AJl2",
        "outputId": "0a9d9331-ee42-4201-cb7c-22a53791f0d3",
        "colab": {
          "base_uri": "https://localhost:8080/"
        }
      },
      "outputs": [
        {
          "output_type": "stream",
          "name": "stdout",
          "text": [
            "Result: 1\n",
            "In-order:\n",
            "1->8->+->6->*->5->%->3->-->"
          ]
        }
      ],
      "source": [
        "# put your answer here\n",
        "class Node:\n",
        "    def __init__(self, value):\n",
        "        self.value = value\n",
        "        self.left = None\n",
        "        self.right = None\n",
        "\n",
        "def evaluateExpressionTree(root):\n",
        "    if root is None:\n",
        "        return 0\n",
        "\n",
        "    if root.value.isdigit():  # Check if the node's value is a digit\n",
        "        return int(root.value)\n",
        "\n",
        "    left_result = evaluateExpressionTree(root.left)\n",
        "    right_result = evaluateExpressionTree(root.right)\n",
        "\n",
        "    if root.value == '+':\n",
        "        return left_result + right_result\n",
        "    elif root.value == '-':\n",
        "        return left_result - right_result\n",
        "    elif root.value == '*':\n",
        "        return left_result * right_result\n",
        "    elif root.value == '/':\n",
        "        return left_result / right_result\n",
        "    elif root.value == '%':\n",
        "        return left_result % right_result\n",
        "\n",
        "def inorder(node):\n",
        "    if node is not None:\n",
        "        inorder(node.left)\n",
        "        print(str(node.value) + '->', end='')\n",
        "        inorder(node.right)\n",
        "\n",
        "root = Node(\"-\")\n",
        "node1 = Node(\"+\")\n",
        "node2 = Node(\"*\")\n",
        "node3 = Node(\"%\")\n",
        "node4 = Node(\"3\")\n",
        "node5 = Node(\"5\")\n",
        "node6 = Node(\"8\")\n",
        "node7 = Node(\"6\")\n",
        "node8 = Node(\"1\")\n",
        "\n",
        "root.left = node3\n",
        "node3.left = node2\n",
        "node3.right = node4\n",
        "node2.left = node1\n",
        "node2.right = node5\n",
        "node1.left = node6\n",
        "node1.right = node7\n",
        "node6.left = node8\n",
        "\n",
        "result = evaluateExpressionTree(root)\n",
        "print(\"Result:\", result)\n",
        "\n",
        "print(\"In-order:\")\n",
        "inorder(root)\n",
        "\n",
        "\n"
      ]
    },
    {
      "cell_type": "markdown",
      "metadata": {
        "id": "tu3n5ZdWAJl2"
      },
      "source": [
        "#### 3. Construct a binary expression tree\n",
        "\n",
        "$ ((2 + 5) / 3)- (3 + 8) $"
      ]
    },
    {
      "cell_type": "code",
      "execution_count": 42,
      "metadata": {
        "id": "5GvZBxgtAJl3",
        "outputId": "84e882b8-011c-404b-a50d-8db1cb35600e",
        "colab": {
          "base_uri": "https://localhost:8080/"
        }
      },
      "outputs": [
        {
          "output_type": "stream",
          "name": "stdout",
          "text": [
            "Result: -10\n",
            "In-order:\n",
            "2->+->5->%->3->-->3->+->8->"
          ]
        }
      ],
      "source": [
        "# put your answer here\n",
        "root = Node(\"-\")\n",
        "node1 = Node(\"%\")\n",
        "node2 = Node(\"+\")\n",
        "node3 = Node(\"+\")\n",
        "node4 = Node(\"3\")\n",
        "node5 = Node(\"2\")\n",
        "node6 = Node(\"5\")\n",
        "node7 = Node(\"3\")\n",
        "node8 = Node(\"8\")\n",
        "\n",
        "root.left = node1\n",
        "node1.left = node3\n",
        "node1.right = node4\n",
        "node3.left = node5\n",
        "node3.right = node6\n",
        "root.right = node2\n",
        "node2.left = node7\n",
        "node2.right = node8\n",
        "\n",
        "result = evaluateExpressionTree(root)\n",
        "print(\"Result:\", result)\n",
        "\n",
        "print(\"In-order:\")\n",
        "inorder(root)"
      ]
    }
  ],
  "metadata": {
    "kernelspec": {
      "display_name": "Python 3",
      "language": "python",
      "name": "python3"
    },
    "language_info": {
      "codemirror_mode": {
        "name": "ipython",
        "version": 3
      },
      "file_extension": ".py",
      "mimetype": "text/x-python",
      "name": "python",
      "nbconvert_exporter": "python",
      "pygments_lexer": "ipython3",
      "version": "3.11.4"
    },
    "orig_nbformat": 4,
    "colab": {
      "provenance": [],
      "include_colab_link": true
    }
  },
  "nbformat": 4,
  "nbformat_minor": 0
}